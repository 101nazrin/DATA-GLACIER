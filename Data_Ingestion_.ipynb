{
  "nbformat": 4,
  "nbformat_minor": 0,
  "metadata": {
    "colab": {
      "provenance": []
    },
    "kernelspec": {
      "name": "python3",
      "display_name": "Python 3"
    },
    "language_info": {
      "name": "python"
    }
  },
  "cells": [
    {
      "cell_type": "markdown",
      "source": [
        "###Importing the modules"
      ],
      "metadata": {
        "id": "aVYtKFE2L7Nt"
      }
    },
    {
      "cell_type": "code",
      "source": [
        "import pandas as pd\n",
        "import time\n",
        "import dask.dataframe as dd\n",
        "import os"
      ],
      "metadata": {
        "id": "ws9uYOI2L5RT"
      },
      "execution_count": null,
      "outputs": []
    },
    {
      "cell_type": "markdown",
      "source": [
        "###Different methods of file reading"
      ],
      "metadata": {
        "id": "39swQ0InMG_T"
      }
    },
    {
      "cell_type": "markdown",
      "source": [
        "#####Using Pandas"
      ],
      "metadata": {
        "id": "KRjiEbZEMQCH"
      }
    },
    {
      "cell_type": "code",
      "source": [
        "initial = time.time()\n",
        "data = pd.read_csv('/content/sample_data/Windmill.csv')\n",
        "time_consumed_pandas = time.time() - initial\n",
        "print(f\"Pandas has taken {time_consumed_pandas} seconds to load the datafile\")\n",
        "\n"
      ],
      "metadata": {
        "id": "LJNxmfXpZWXg",
        "colab": {
          "base_uri": "https://localhost:8080/"
        },
        "outputId": "cf437694-18b4-4e8e-92cb-870a35d135b1"
      },
      "execution_count": 41,
      "outputs": [
        {
          "output_type": "stream",
          "name": "stdout",
          "text": [
            "Pandas has taken 0.7290947437286377 seconds to load the datafile\n"
          ]
        }
      ]
    },
    {
      "cell_type": "markdown",
      "source": [
        "#####Using Dask"
      ],
      "metadata": {
        "id": "02Yv5ayPMUWB"
      }
    },
    {
      "cell_type": "code",
      "source": [
        "initial = time.time()\n",
        "data = dd.read_csv('/content/sample_data/Windmill.csv')\n",
        "time_consumed_dask = time.time() - initial\n",
        "print(f\"Dask has taken {time_consumed_dask} seconds to load the datafile\")"
      ],
      "metadata": {
        "colab": {
          "base_uri": "https://localhost:8080/"
        },
        "id": "1fAMGHAKkQpX",
        "outputId": "314e58f1-b16a-4679-abf8-279645416072"
      },
      "execution_count": 42,
      "outputs": [
        {
          "output_type": "stream",
          "name": "stdout",
          "text": [
            "Dask has taken 0.012734413146972656 seconds to load the datafile\n"
          ]
        }
      ]
    },
    {
      "cell_type": "markdown",
      "source": [
        "###Installing packages for Modin and Ray\n"
      ],
      "metadata": {
        "id": "5eAS2kK_CNa4"
      }
    },
    {
      "cell_type": "code",
      "source": [
        "!pip install ray"
      ],
      "metadata": {
        "colab": {
          "base_uri": "https://localhost:8080/"
        },
        "id": "Tc_mLuXK-QYh",
        "outputId": "39850d29-791f-45fe-c05e-09b6fcd2427b"
      },
      "execution_count": 4,
      "outputs": [
        {
          "output_type": "stream",
          "name": "stdout",
          "text": [
            "Requirement already satisfied: ray in /usr/local/lib/python3.10/dist-packages (2.24.0)\n",
            "Requirement already satisfied: click>=7.0 in /usr/local/lib/python3.10/dist-packages (from ray) (8.1.7)\n",
            "Requirement already satisfied: filelock in /usr/local/lib/python3.10/dist-packages (from ray) (3.14.0)\n",
            "Requirement already satisfied: jsonschema in /usr/local/lib/python3.10/dist-packages (from ray) (4.19.2)\n",
            "Requirement already satisfied: msgpack<2.0.0,>=1.0.0 in /usr/local/lib/python3.10/dist-packages (from ray) (1.0.8)\n",
            "Requirement already satisfied: packaging in /usr/local/lib/python3.10/dist-packages (from ray) (24.1)\n",
            "Requirement already satisfied: protobuf!=3.19.5,>=3.15.3 in /usr/local/lib/python3.10/dist-packages (from ray) (3.20.3)\n",
            "Requirement already satisfied: pyyaml in /usr/local/lib/python3.10/dist-packages (from ray) (6.0.1)\n",
            "Requirement already satisfied: aiosignal in /usr/local/lib/python3.10/dist-packages (from ray) (1.3.1)\n",
            "Requirement already satisfied: frozenlist in /usr/local/lib/python3.10/dist-packages (from ray) (1.4.1)\n",
            "Requirement already satisfied: requests in /usr/local/lib/python3.10/dist-packages (from ray) (2.31.0)\n",
            "Requirement already satisfied: attrs>=22.2.0 in /usr/local/lib/python3.10/dist-packages (from jsonschema->ray) (23.2.0)\n",
            "Requirement already satisfied: jsonschema-specifications>=2023.03.6 in /usr/local/lib/python3.10/dist-packages (from jsonschema->ray) (2023.12.1)\n",
            "Requirement already satisfied: referencing>=0.28.4 in /usr/local/lib/python3.10/dist-packages (from jsonschema->ray) (0.35.1)\n",
            "Requirement already satisfied: rpds-py>=0.7.1 in /usr/local/lib/python3.10/dist-packages (from jsonschema->ray) (0.18.1)\n",
            "Requirement already satisfied: charset-normalizer<4,>=2 in /usr/local/lib/python3.10/dist-packages (from requests->ray) (3.3.2)\n",
            "Requirement already satisfied: idna<4,>=2.5 in /usr/local/lib/python3.10/dist-packages (from requests->ray) (3.7)\n",
            "Requirement already satisfied: urllib3<3,>=1.21.1 in /usr/local/lib/python3.10/dist-packages (from requests->ray) (2.0.7)\n",
            "Requirement already satisfied: certifi>=2017.4.17 in /usr/local/lib/python3.10/dist-packages (from requests->ray) (2024.6.2)\n"
          ]
        }
      ]
    },
    {
      "cell_type": "code",
      "source": [
        "#There exist an error between existing version of pandas and installed package of modin.Modifying the pandas existing package\n",
        "!pip install --upgrade pandas==2.2.*\n"
      ],
      "metadata": {
        "colab": {
          "base_uri": "https://localhost:8080/"
        },
        "id": "gLtudfdL-QgT",
        "outputId": "48c853a5-1909-4c8a-ea14-1f0155325113"
      },
      "execution_count": 5,
      "outputs": [
        {
          "output_type": "stream",
          "name": "stdout",
          "text": [
            "Requirement already satisfied: pandas==2.2.* in /usr/local/lib/python3.10/dist-packages (2.2.2)\n",
            "Requirement already satisfied: numpy>=1.22.4 in /usr/local/lib/python3.10/dist-packages (from pandas==2.2.*) (1.26.4)\n",
            "Requirement already satisfied: python-dateutil>=2.8.2 in /usr/local/lib/python3.10/dist-packages (from pandas==2.2.*) (2.9.0.post0)\n",
            "Requirement already satisfied: pytz>=2020.1 in /usr/local/lib/python3.10/dist-packages (from pandas==2.2.*) (2024.1)\n",
            "Requirement already satisfied: tzdata>=2022.7 in /usr/local/lib/python3.10/dist-packages (from pandas==2.2.*) (2024.1)\n",
            "Requirement already satisfied: six>=1.5 in /usr/local/lib/python3.10/dist-packages (from python-dateutil>=2.8.2->pandas==2.2.*) (1.16.0)\n"
          ]
        }
      ]
    },
    {
      "cell_type": "code",
      "source": [
        "#upgrading reinstalling  modin\n",
        "!pip install --upgrade --force-reinstall modin\n"
      ],
      "metadata": {
        "colab": {
          "base_uri": "https://localhost:8080/",
          "height": 1000
        },
        "id": "7jsqHnwv--tM",
        "outputId": "4bffc7df-3c20-4c7d-c19c-a082c4c33efe"
      },
      "execution_count": 6,
      "outputs": [
        {
          "output_type": "stream",
          "name": "stdout",
          "text": [
            "Collecting modin\n",
            "  Using cached modin-0.30.1-py3-none-any.whl (1.2 MB)\n",
            "Collecting pandas<2.3,>=2.2 (from modin)\n",
            "  Using cached pandas-2.2.2-cp310-cp310-manylinux_2_17_x86_64.manylinux2014_x86_64.whl (13.0 MB)\n",
            "Collecting packaging>=21.0 (from modin)\n",
            "  Using cached packaging-24.1-py3-none-any.whl (53 kB)\n",
            "Collecting numpy<2,>=1.22.4 (from modin)\n",
            "  Using cached numpy-1.26.4-cp310-cp310-manylinux_2_17_x86_64.manylinux2014_x86_64.whl (18.2 MB)\n",
            "Collecting fsspec>=2022.11.0 (from modin)\n",
            "  Using cached fsspec-2024.6.0-py3-none-any.whl (176 kB)\n",
            "Collecting psutil>=5.8.0 (from modin)\n",
            "  Using cached psutil-5.9.8-cp36-abi3-manylinux_2_12_x86_64.manylinux2010_x86_64.manylinux_2_17_x86_64.manylinux2014_x86_64.whl (288 kB)\n",
            "Collecting python-dateutil>=2.8.2 (from pandas<2.3,>=2.2->modin)\n",
            "  Using cached python_dateutil-2.9.0.post0-py2.py3-none-any.whl (229 kB)\n",
            "Collecting pytz>=2020.1 (from pandas<2.3,>=2.2->modin)\n",
            "  Using cached pytz-2024.1-py2.py3-none-any.whl (505 kB)\n",
            "Collecting tzdata>=2022.7 (from pandas<2.3,>=2.2->modin)\n",
            "  Using cached tzdata-2024.1-py2.py3-none-any.whl (345 kB)\n",
            "Collecting six>=1.5 (from python-dateutil>=2.8.2->pandas<2.3,>=2.2->modin)\n",
            "  Using cached six-1.16.0-py2.py3-none-any.whl (11 kB)\n",
            "Installing collected packages: pytz, tzdata, six, psutil, packaging, numpy, fsspec, python-dateutil, pandas, modin\n",
            "  Attempting uninstall: pytz\n",
            "    Found existing installation: pytz 2024.1\n",
            "    Uninstalling pytz-2024.1:\n",
            "      Successfully uninstalled pytz-2024.1\n",
            "  Attempting uninstall: tzdata\n",
            "    Found existing installation: tzdata 2024.1\n",
            "    Uninstalling tzdata-2024.1:\n",
            "      Successfully uninstalled tzdata-2024.1\n",
            "  Attempting uninstall: six\n",
            "    Found existing installation: six 1.16.0\n",
            "    Uninstalling six-1.16.0:\n",
            "      Successfully uninstalled six-1.16.0\n",
            "  Attempting uninstall: psutil\n",
            "    Found existing installation: psutil 5.9.8\n",
            "    Uninstalling psutil-5.9.8:\n",
            "      Successfully uninstalled psutil-5.9.8\n",
            "  Attempting uninstall: packaging\n",
            "    Found existing installation: packaging 24.1\n",
            "    Uninstalling packaging-24.1:\n",
            "      Successfully uninstalled packaging-24.1\n",
            "  Attempting uninstall: numpy\n",
            "    Found existing installation: numpy 1.26.4\n",
            "    Uninstalling numpy-1.26.4:\n",
            "      Successfully uninstalled numpy-1.26.4\n",
            "  Attempting uninstall: fsspec\n",
            "    Found existing installation: fsspec 2024.6.0\n",
            "    Uninstalling fsspec-2024.6.0:\n",
            "      Successfully uninstalled fsspec-2024.6.0\n",
            "  Attempting uninstall: python-dateutil\n",
            "    Found existing installation: python-dateutil 2.9.0.post0\n",
            "    Uninstalling python-dateutil-2.9.0.post0:\n",
            "      Successfully uninstalled python-dateutil-2.9.0.post0\n",
            "  Attempting uninstall: pandas\n",
            "    Found existing installation: pandas 2.2.2\n",
            "    Uninstalling pandas-2.2.2:\n",
            "      Successfully uninstalled pandas-2.2.2\n",
            "  Attempting uninstall: modin\n",
            "    Found existing installation: modin 0.30.1\n",
            "    Uninstalling modin-0.30.1:\n",
            "      Successfully uninstalled modin-0.30.1\n",
            "\u001b[31mERROR: pip's dependency resolver does not currently take into account all the packages that are installed. This behaviour is the source of the following dependency conflicts.\n",
            "torch 2.3.0+cu121 requires nvidia-cublas-cu12==12.1.3.1; platform_system == \"Linux\" and platform_machine == \"x86_64\", which is not installed.\n",
            "torch 2.3.0+cu121 requires nvidia-cuda-cupti-cu12==12.1.105; platform_system == \"Linux\" and platform_machine == \"x86_64\", which is not installed.\n",
            "torch 2.3.0+cu121 requires nvidia-cuda-nvrtc-cu12==12.1.105; platform_system == \"Linux\" and platform_machine == \"x86_64\", which is not installed.\n",
            "torch 2.3.0+cu121 requires nvidia-cuda-runtime-cu12==12.1.105; platform_system == \"Linux\" and platform_machine == \"x86_64\", which is not installed.\n",
            "torch 2.3.0+cu121 requires nvidia-cudnn-cu12==8.9.2.26; platform_system == \"Linux\" and platform_machine == \"x86_64\", which is not installed.\n",
            "torch 2.3.0+cu121 requires nvidia-cufft-cu12==11.0.2.54; platform_system == \"Linux\" and platform_machine == \"x86_64\", which is not installed.\n",
            "torch 2.3.0+cu121 requires nvidia-curand-cu12==10.3.2.106; platform_system == \"Linux\" and platform_machine == \"x86_64\", which is not installed.\n",
            "torch 2.3.0+cu121 requires nvidia-cusolver-cu12==11.4.5.107; platform_system == \"Linux\" and platform_machine == \"x86_64\", which is not installed.\n",
            "torch 2.3.0+cu121 requires nvidia-cusparse-cu12==12.1.0.106; platform_system == \"Linux\" and platform_machine == \"x86_64\", which is not installed.\n",
            "torch 2.3.0+cu121 requires nvidia-nccl-cu12==2.20.5; platform_system == \"Linux\" and platform_machine == \"x86_64\", which is not installed.\n",
            "torch 2.3.0+cu121 requires nvidia-nvtx-cu12==12.1.105; platform_system == \"Linux\" and platform_machine == \"x86_64\", which is not installed.\n",
            "cudf-cu12 24.4.1 requires pandas<2.2.2dev0,>=2.0, but you have pandas 2.2.2 which is incompatible.\n",
            "gcsfs 2023.6.0 requires fsspec==2023.6.0, but you have fsspec 2024.6.0 which is incompatible.\n",
            "google-colab 1.0.0 requires pandas==2.0.3, but you have pandas 2.2.2 which is incompatible.\u001b[0m\u001b[31m\n",
            "\u001b[0mSuccessfully installed fsspec-2024.6.0 modin-0.30.1 numpy-1.26.4 packaging-24.1 pandas-2.2.2 psutil-5.9.8 python-dateutil-2.9.0.post0 pytz-2024.1 six-1.16.0 tzdata-2024.1\n"
          ]
        },
        {
          "output_type": "display_data",
          "data": {
            "application/vnd.colab-display-data+json": {
              "pip_warning": {
                "packages": [
                  "dateutil",
                  "psutil",
                  "pytz",
                  "six"
                ]
              },
              "id": "6e6a855e65d14f8d9ffc507678caaaf4"
            }
          },
          "metadata": {}
        }
      ]
    },
    {
      "cell_type": "code",
      "source": [
        "!pip uninstall -y pandas modin\n"
      ],
      "metadata": {
        "colab": {
          "base_uri": "https://localhost:8080/"
        },
        "id": "dvgQW3OJAZ-e",
        "outputId": "b19e4422-4137-46c7-e9fa-5dd5ccb0ca8e"
      },
      "execution_count": 7,
      "outputs": [
        {
          "output_type": "stream",
          "name": "stdout",
          "text": [
            "Found existing installation: pandas 2.2.2\n",
            "Uninstalling pandas-2.2.2:\n",
            "  Successfully uninstalled pandas-2.2.2\n",
            "Found existing installation: modin 0.30.1\n",
            "Uninstalling modin-0.30.1:\n",
            "  Successfully uninstalled modin-0.30.1\n"
          ]
        }
      ]
    },
    {
      "cell_type": "code",
      "source": [
        "!pip install pandas==2.2.2 modin==0.30.1\n"
      ],
      "metadata": {
        "colab": {
          "base_uri": "https://localhost:8080/"
        },
        "id": "8MBT1gpsAf_S",
        "outputId": "e182b6e7-4043-4b48-f0eb-d26f8ce554a4"
      },
      "execution_count": 8,
      "outputs": [
        {
          "output_type": "stream",
          "name": "stdout",
          "text": [
            "Collecting pandas==2.2.2\n",
            "  Using cached pandas-2.2.2-cp310-cp310-manylinux_2_17_x86_64.manylinux2014_x86_64.whl (13.0 MB)\n",
            "Collecting modin==0.30.1\n",
            "  Using cached modin-0.30.1-py3-none-any.whl (1.2 MB)\n",
            "Requirement already satisfied: numpy>=1.22.4 in /usr/local/lib/python3.10/dist-packages (from pandas==2.2.2) (1.26.4)\n",
            "Requirement already satisfied: python-dateutil>=2.8.2 in /usr/local/lib/python3.10/dist-packages (from pandas==2.2.2) (2.9.0.post0)\n",
            "Requirement already satisfied: pytz>=2020.1 in /usr/local/lib/python3.10/dist-packages (from pandas==2.2.2) (2024.1)\n",
            "Requirement already satisfied: tzdata>=2022.7 in /usr/local/lib/python3.10/dist-packages (from pandas==2.2.2) (2024.1)\n",
            "Requirement already satisfied: packaging>=21.0 in /usr/local/lib/python3.10/dist-packages (from modin==0.30.1) (24.1)\n",
            "Requirement already satisfied: fsspec>=2022.11.0 in /usr/local/lib/python3.10/dist-packages (from modin==0.30.1) (2024.6.0)\n",
            "Requirement already satisfied: psutil>=5.8.0 in /usr/local/lib/python3.10/dist-packages (from modin==0.30.1) (5.9.8)\n",
            "Requirement already satisfied: six>=1.5 in /usr/local/lib/python3.10/dist-packages (from python-dateutil>=2.8.2->pandas==2.2.2) (1.16.0)\n",
            "Installing collected packages: pandas, modin\n",
            "\u001b[31mERROR: pip's dependency resolver does not currently take into account all the packages that are installed. This behaviour is the source of the following dependency conflicts.\n",
            "cudf-cu12 24.4.1 requires pandas<2.2.2dev0,>=2.0, but you have pandas 2.2.2 which is incompatible.\n",
            "google-colab 1.0.0 requires pandas==2.0.3, but you have pandas 2.2.2 which is incompatible.\u001b[0m\u001b[31m\n",
            "\u001b[0mSuccessfully installed modin-0.30.1 pandas-2.2.2\n"
          ]
        }
      ]
    },
    {
      "cell_type": "markdown",
      "source": [
        "######Using Modin"
      ],
      "metadata": {
        "id": "1FlQYUWcMnim"
      }
    },
    {
      "cell_type": "code",
      "source": [
        "import modin.pandas as mpd\n",
        "import ray\n",
        "ray.init(ignore_reinit_error=True)\n",
        "initial = time.time()\n",
        "data_modin = mpd.read_csv('/content/sample_data/Windmill.csv')\n",
        "time_consumed_modin = time.time() - initial\n",
        "print(f\"Modin has taken {time_consumed_modin} seconds to load the datafile\")\n"
      ],
      "metadata": {
        "colab": {
          "base_uri": "https://localhost:8080/"
        },
        "id": "kCoTjAQN9V-P",
        "outputId": "28368720-8342-464d-b446-806efd652890"
      },
      "execution_count": 10,
      "outputs": [
        {
          "output_type": "stream",
          "name": "stderr",
          "text": [
            "2024-06-11 15:59:43,045\tINFO worker.py:1586 -- Calling ray.init() again after it has already been called.\n"
          ]
        },
        {
          "output_type": "stream",
          "name": "stdout",
          "text": [
            "Modin has taken 2.365089178085327 seconds to load the datafile\n"
          ]
        }
      ]
    },
    {
      "cell_type": "markdown",
      "source": [
        "######Using Ray"
      ],
      "metadata": {
        "id": "mWRltY8oMsPe"
      }
    },
    {
      "cell_type": "code",
      "source": [
        "initial = time.time()\n",
        "ray.init(ignore_reinit_error=True)\n",
        "data_ray = ray.data.read_csv('/content/sample_data/Windmill.csv')\n",
        "time_consumed_ray = time.time() - initial\n",
        "print(f\"Ray has taken {time_consumed_ray} seconds to load the datafile\")\n",
        "\n"
      ],
      "metadata": {
        "colab": {
          "base_uri": "https://localhost:8080/"
        },
        "id": "nKDOKrv69WBj",
        "outputId": "5425d85e-c230-4abf-c88a-130211850710"
      },
      "execution_count": 11,
      "outputs": [
        {
          "output_type": "stream",
          "name": "stderr",
          "text": [
            "2024-06-11 16:01:30,127\tINFO worker.py:1586 -- Calling ray.init() again after it has already been called.\n"
          ]
        },
        {
          "output_type": "stream",
          "name": "stdout",
          "text": [
            "Ray has taken 1.566192626953125 seconds to load the datafile\n"
          ]
        }
      ]
    },
    {
      "cell_type": "markdown",
      "source": [
        "###Computational efficiency"
      ],
      "metadata": {
        "id": "mLxzC-CWM17L"
      }
    },
    {
      "cell_type": "code",
      "source": [
        "# The computational efficiency of loading files using different modules\n",
        "Efficiancy = {\n",
        "    'pandas': time_consumed_pandas,\n",
        "    'Dask': time_consumed_dask,\n",
        "    'Modin': time_consumed_modin,\n",
        "    'Ray': time_consumed_ray\n",
        "}\n",
        "\n",
        "print(\"Computational Efficiency Findings:\", Efficiancy)"
      ],
      "metadata": {
        "colab": {
          "base_uri": "https://localhost:8080/"
        },
        "id": "jheTJQh0KQON",
        "outputId": "08cd51f5-c31c-41c7-8d35-f380e8c13ca9"
      },
      "execution_count": 59,
      "outputs": [
        {
          "output_type": "stream",
          "name": "stdout",
          "text": [
            "Computational Efficiency Findings: {'pandas': 0.7290947437286377, 'Dask': 0.012734413146972656, 'Modin': 2.365089178085327, 'Ray': 1.566192626953125}\n"
          ]
        }
      ]
    },
    {
      "cell_type": "markdown",
      "source": [
        "###Creating Utilis function for data validation"
      ],
      "metadata": {
        "id": "MU_c48WMM_Fa"
      }
    },
    {
      "cell_type": "code",
      "source": [
        "#Writing a utilis function for validation\n",
        "%%writefile utility.py\n",
        "import logging\n",
        "import os\n",
        "import subprocess\n",
        "import yaml\n",
        "import pandas as pd\n",
        "import datetime\n",
        "import gc\n",
        "import re\n",
        "\n",
        "#Function to read the Yaml file\n",
        "def read_config_file(filepath):\n",
        "    with open(filepath, 'r') as stream:\n",
        "        try:\n",
        "            return yaml.safe_load(stream)\n",
        "        except yaml.YAMLError as exc:\n",
        "            logging.error(exc)\n",
        "\n",
        "def replacer(string, char):\n",
        "    pattern = char + '{2,}'\n",
        "    string = re.sub(pattern, char, string)\n",
        "    return string\n",
        "\n",
        "#Function to perform validation between the Windmill dataset and the schema we require for the data\n",
        "def col_header_val(df, table_config):\n",
        "    '''\n",
        "This Function transform all column names to lowecase,ensure any character in the column that is not a word to _,\n",
        "Removes leading and trailing zeros in colum names,replace multiple undescores to single underscores\n",
        "    '''\n",
        "    df.columns = df.columns.str.lower()\n",
        "    df.columns = df.columns.str.replace('[^\\w]', '_', regex=True)\n",
        "    df.columns = list(map(lambda x: x.strip('_'), list(df.columns)))\n",
        "    df.columns = list(map(lambda x: replacer(x, '_'), list(df.columns)))\n",
        "\n",
        "\n",
        "    #Convert the columns in configration file to lowercase and sort\n",
        "\n",
        "    expected_col = list(map(lambda x: x.lower(), table_config['columns']))\n",
        "    expected_col.sort()\n",
        "\n",
        "    df.columns = list(map(lambda x: x.lower(), list(df.columns)))\n",
        "\n",
        "\n",
        "    if len(df.columns) == len(expected_col) and list(expected_col) == list(df.columns):\n",
        "        print(\"column name and  length are same in the givendataset and congiration -> validation passed\")\n",
        "        return 1\n",
        "    else:\n",
        "        print(\"column name and length mismatch, validation failed\")\n",
        "        mismatched_columns = list(set(df.columns).difference(expected_col))\n",
        "\n",
        "        print(\"These columns are not found in the YAML file\", mismatched_columns)\n",
        "        missing_YAML_file = list(set(expected_col).difference(df.columns))\n",
        "\n",
        "        print(\"Following YAML columns are not in the file uploaded\", missing_YAML_file)\n",
        "        logging.info(f'df columns: {df.columns}')\n",
        "        logging.info(f'expected columns: {expected_col}')\n",
        "        return 0\n"
      ],
      "metadata": {
        "colab": {
          "base_uri": "https://localhost:8080/"
        },
        "id": "WjC-ggsiCGua",
        "outputId": "a98a1da9-3bc8-49e6-fb33-e918e094d26f"
      },
      "execution_count": 43,
      "outputs": [
        {
          "output_type": "stream",
          "name": "stdout",
          "text": [
            "Overwriting utility.py\n"
          ]
        }
      ]
    },
    {
      "cell_type": "markdown",
      "source": [
        "###Creating the Yaml File for required Schema"
      ],
      "metadata": {
        "id": "abo78gXLNSBi"
      }
    },
    {
      "cell_type": "code",
      "source": [
        "#Writing a yaml file name Windmill.yaml with the required column names and delimeters for configuration\n",
        "\n",
        "%%writefile windmill.yaml\n",
        "file_type: csv\n",
        "dataset_name: Windmill\n",
        "file_name: Windmill\n",
        "table_name: datas\n",
        "inbound_delimiter: \",\"\n",
        "outbound_delimiter: \"|\"\n",
        "skip_leading_rows: 1\n",
        "columns:\n",
        "    - Temperature\n",
        "    - Pressure\n",
        "    - Humidity\n",
        "    - Speed"
      ],
      "metadata": {
        "colab": {
          "base_uri": "https://localhost:8080/"
        },
        "id": "3Wf_XNR7E9wL",
        "outputId": "1d0015f0-cdf9-4bbd-da78-3eeb458b1ddc"
      },
      "execution_count": 44,
      "outputs": [
        {
          "output_type": "stream",
          "name": "stdout",
          "text": [
            "Overwriting windmill.yaml\n"
          ]
        }
      ]
    },
    {
      "cell_type": "markdown",
      "source": [
        "###Validating number of columns and column name of ingested file with YAML"
      ],
      "metadata": {
        "id": "6eUNduKGNbX-"
      }
    },
    {
      "cell_type": "code",
      "source": [
        "import utility\n",
        "data_schema = utility.read_config_file(\"windmill.yaml\")\n",
        "\n",
        "# Read the windmill file w.r.t our schema and verifying\n",
        "file_type = data_schema['file_type']\n",
        "source_file = \"/content/sample_data/\" + data_schema['file_name'] + f'.{file_type}'\n",
        "print(source_file)"
      ],
      "metadata": {
        "colab": {
          "base_uri": "https://localhost:8080/"
        },
        "id": "bE1l4cyAFv6Z",
        "outputId": "29ceccbb-47ab-4b9c-b3c5-c510f363a268"
      },
      "execution_count": 53,
      "outputs": [
        {
          "output_type": "stream",
          "name": "stdout",
          "text": [
            "/content/sample_data/Windmill.csv\n"
          ]
        }
      ]
    },
    {
      "cell_type": "code",
      "source": [
        "data = pd.read_csv(source_file, delimiter=data_schema['inbound_delimiter'])\n",
        "\n",
        "# Validating the column headers using utility function\n",
        "validation_result = utility.col_header_val(data, data_schema)\n",
        "\n",
        "if validation_result == False:\n",
        "    print(\"Validation failed\")\n",
        "else:\n",
        "    print(\"Validation passed\")\n"
      ],
      "metadata": {
        "colab": {
          "base_uri": "https://localhost:8080/"
        },
        "id": "7vZI_4HEGqWR",
        "outputId": "db75e098-e9bc-480b-a828-500314549133"
      },
      "execution_count": 54,
      "outputs": [
        {
          "output_type": "stream",
          "name": "stdout",
          "text": [
            "column name and  length are same in the givendataset and congiration -> validation passed\n",
            "Validation passed\n"
          ]
        }
      ]
    },
    {
      "cell_type": "markdown",
      "source": [
        "###Writing the file in pipe separated text file (|) in gz format."
      ],
      "metadata": {
        "id": "CkUCc1BdNjOz"
      }
    },
    {
      "cell_type": "code",
      "source": [
        "data.to_csv('Windmill_compressed.gz', sep='|', index=False, compression='gzip')\n",
        "data"
      ],
      "metadata": {
        "colab": {
          "base_uri": "https://localhost:8080/",
          "height": 423
        },
        "id": "NnyBP2QlHfkT",
        "outputId": "ed26ff10-f649-4dc9-be01-c419ccfac7c0"
      },
      "execution_count": 55,
      "outputs": [
        {
          "output_type": "execute_result",
          "data": {
            "text/plain": [
              "         temperature   pressure   humidity      speed\n",
              "0          19.116226  76.328420  68.494706  61.486759\n",
              "1          46.548725  18.997384  54.300660  19.784080\n",
              "2          83.847663  37.060320   3.783252  83.036573\n",
              "3          85.344576  32.875587  36.586661  50.075240\n",
              "4          81.941988  31.862048  59.735974  39.877795\n",
              "...              ...        ...        ...        ...\n",
              "1048570    54.544765  82.745748  30.575210  27.743963\n",
              "1048571    85.365583  71.352061   4.009105  20.056982\n",
              "1048572    55.923561  76.383234  90.885080   2.673864\n",
              "1048573    97.751169  75.644167  80.672092  43.748530\n",
              "1048574    78.181767  24.150443  53.133289  28.165513\n",
              "\n",
              "[1048575 rows x 4 columns]"
            ],
            "text/html": [
              "\n",
              "  <div id=\"df-099face5-ff2e-4358-b1a4-04b007e6df31\" class=\"colab-df-container\">\n",
              "    <div>\n",
              "<style scoped>\n",
              "    .dataframe tbody tr th:only-of-type {\n",
              "        vertical-align: middle;\n",
              "    }\n",
              "\n",
              "    .dataframe tbody tr th {\n",
              "        vertical-align: top;\n",
              "    }\n",
              "\n",
              "    .dataframe thead th {\n",
              "        text-align: right;\n",
              "    }\n",
              "</style>\n",
              "<table border=\"1\" class=\"dataframe\">\n",
              "  <thead>\n",
              "    <tr style=\"text-align: right;\">\n",
              "      <th></th>\n",
              "      <th>temperature</th>\n",
              "      <th>pressure</th>\n",
              "      <th>humidity</th>\n",
              "      <th>speed</th>\n",
              "    </tr>\n",
              "  </thead>\n",
              "  <tbody>\n",
              "    <tr>\n",
              "      <th>0</th>\n",
              "      <td>19.116226</td>\n",
              "      <td>76.328420</td>\n",
              "      <td>68.494706</td>\n",
              "      <td>61.486759</td>\n",
              "    </tr>\n",
              "    <tr>\n",
              "      <th>1</th>\n",
              "      <td>46.548725</td>\n",
              "      <td>18.997384</td>\n",
              "      <td>54.300660</td>\n",
              "      <td>19.784080</td>\n",
              "    </tr>\n",
              "    <tr>\n",
              "      <th>2</th>\n",
              "      <td>83.847663</td>\n",
              "      <td>37.060320</td>\n",
              "      <td>3.783252</td>\n",
              "      <td>83.036573</td>\n",
              "    </tr>\n",
              "    <tr>\n",
              "      <th>3</th>\n",
              "      <td>85.344576</td>\n",
              "      <td>32.875587</td>\n",
              "      <td>36.586661</td>\n",
              "      <td>50.075240</td>\n",
              "    </tr>\n",
              "    <tr>\n",
              "      <th>4</th>\n",
              "      <td>81.941988</td>\n",
              "      <td>31.862048</td>\n",
              "      <td>59.735974</td>\n",
              "      <td>39.877795</td>\n",
              "    </tr>\n",
              "    <tr>\n",
              "      <th>...</th>\n",
              "      <td>...</td>\n",
              "      <td>...</td>\n",
              "      <td>...</td>\n",
              "      <td>...</td>\n",
              "    </tr>\n",
              "    <tr>\n",
              "      <th>1048570</th>\n",
              "      <td>54.544765</td>\n",
              "      <td>82.745748</td>\n",
              "      <td>30.575210</td>\n",
              "      <td>27.743963</td>\n",
              "    </tr>\n",
              "    <tr>\n",
              "      <th>1048571</th>\n",
              "      <td>85.365583</td>\n",
              "      <td>71.352061</td>\n",
              "      <td>4.009105</td>\n",
              "      <td>20.056982</td>\n",
              "    </tr>\n",
              "    <tr>\n",
              "      <th>1048572</th>\n",
              "      <td>55.923561</td>\n",
              "      <td>76.383234</td>\n",
              "      <td>90.885080</td>\n",
              "      <td>2.673864</td>\n",
              "    </tr>\n",
              "    <tr>\n",
              "      <th>1048573</th>\n",
              "      <td>97.751169</td>\n",
              "      <td>75.644167</td>\n",
              "      <td>80.672092</td>\n",
              "      <td>43.748530</td>\n",
              "    </tr>\n",
              "    <tr>\n",
              "      <th>1048574</th>\n",
              "      <td>78.181767</td>\n",
              "      <td>24.150443</td>\n",
              "      <td>53.133289</td>\n",
              "      <td>28.165513</td>\n",
              "    </tr>\n",
              "  </tbody>\n",
              "</table>\n",
              "<p>1048575 rows × 4 columns</p>\n",
              "</div>\n",
              "    <div class=\"colab-df-buttons\">\n",
              "\n",
              "  <div class=\"colab-df-container\">\n",
              "    <button class=\"colab-df-convert\" onclick=\"convertToInteractive('df-099face5-ff2e-4358-b1a4-04b007e6df31')\"\n",
              "            title=\"Convert this dataframe to an interactive table.\"\n",
              "            style=\"display:none;\">\n",
              "\n",
              "  <svg xmlns=\"http://www.w3.org/2000/svg\" height=\"24px\" viewBox=\"0 -960 960 960\">\n",
              "    <path d=\"M120-120v-720h720v720H120Zm60-500h600v-160H180v160Zm220 220h160v-160H400v160Zm0 220h160v-160H400v160ZM180-400h160v-160H180v160Zm440 0h160v-160H620v160ZM180-180h160v-160H180v160Zm440 0h160v-160H620v160Z\"/>\n",
              "  </svg>\n",
              "    </button>\n",
              "\n",
              "  <style>\n",
              "    .colab-df-container {\n",
              "      display:flex;\n",
              "      gap: 12px;\n",
              "    }\n",
              "\n",
              "    .colab-df-convert {\n",
              "      background-color: #E8F0FE;\n",
              "      border: none;\n",
              "      border-radius: 50%;\n",
              "      cursor: pointer;\n",
              "      display: none;\n",
              "      fill: #1967D2;\n",
              "      height: 32px;\n",
              "      padding: 0 0 0 0;\n",
              "      width: 32px;\n",
              "    }\n",
              "\n",
              "    .colab-df-convert:hover {\n",
              "      background-color: #E2EBFA;\n",
              "      box-shadow: 0px 1px 2px rgba(60, 64, 67, 0.3), 0px 1px 3px 1px rgba(60, 64, 67, 0.15);\n",
              "      fill: #174EA6;\n",
              "    }\n",
              "\n",
              "    .colab-df-buttons div {\n",
              "      margin-bottom: 4px;\n",
              "    }\n",
              "\n",
              "    [theme=dark] .colab-df-convert {\n",
              "      background-color: #3B4455;\n",
              "      fill: #D2E3FC;\n",
              "    }\n",
              "\n",
              "    [theme=dark] .colab-df-convert:hover {\n",
              "      background-color: #434B5C;\n",
              "      box-shadow: 0px 1px 3px 1px rgba(0, 0, 0, 0.15);\n",
              "      filter: drop-shadow(0px 1px 2px rgba(0, 0, 0, 0.3));\n",
              "      fill: #FFFFFF;\n",
              "    }\n",
              "  </style>\n",
              "\n",
              "    <script>\n",
              "      const buttonEl =\n",
              "        document.querySelector('#df-099face5-ff2e-4358-b1a4-04b007e6df31 button.colab-df-convert');\n",
              "      buttonEl.style.display =\n",
              "        google.colab.kernel.accessAllowed ? 'block' : 'none';\n",
              "\n",
              "      async function convertToInteractive(key) {\n",
              "        const element = document.querySelector('#df-099face5-ff2e-4358-b1a4-04b007e6df31');\n",
              "        const dataTable =\n",
              "          await google.colab.kernel.invokeFunction('convertToInteractive',\n",
              "                                                    [key], {});\n",
              "        if (!dataTable) return;\n",
              "\n",
              "        const docLinkHtml = 'Like what you see? Visit the ' +\n",
              "          '<a target=\"_blank\" href=https://colab.research.google.com/notebooks/data_table.ipynb>data table notebook</a>'\n",
              "          + ' to learn more about interactive tables.';\n",
              "        element.innerHTML = '';\n",
              "        dataTable['output_type'] = 'display_data';\n",
              "        await google.colab.output.renderOutput(dataTable, element);\n",
              "        const docLink = document.createElement('div');\n",
              "        docLink.innerHTML = docLinkHtml;\n",
              "        element.appendChild(docLink);\n",
              "      }\n",
              "    </script>\n",
              "  </div>\n",
              "\n",
              "\n",
              "<div id=\"df-41b444e2-4196-456d-83fc-ce7eadc6ac4f\">\n",
              "  <button class=\"colab-df-quickchart\" onclick=\"quickchart('df-41b444e2-4196-456d-83fc-ce7eadc6ac4f')\"\n",
              "            title=\"Suggest charts\"\n",
              "            style=\"display:none;\">\n",
              "\n",
              "<svg xmlns=\"http://www.w3.org/2000/svg\" height=\"24px\"viewBox=\"0 0 24 24\"\n",
              "     width=\"24px\">\n",
              "    <g>\n",
              "        <path d=\"M19 3H5c-1.1 0-2 .9-2 2v14c0 1.1.9 2 2 2h14c1.1 0 2-.9 2-2V5c0-1.1-.9-2-2-2zM9 17H7v-7h2v7zm4 0h-2V7h2v10zm4 0h-2v-4h2v4z\"/>\n",
              "    </g>\n",
              "</svg>\n",
              "  </button>\n",
              "\n",
              "<style>\n",
              "  .colab-df-quickchart {\n",
              "      --bg-color: #E8F0FE;\n",
              "      --fill-color: #1967D2;\n",
              "      --hover-bg-color: #E2EBFA;\n",
              "      --hover-fill-color: #174EA6;\n",
              "      --disabled-fill-color: #AAA;\n",
              "      --disabled-bg-color: #DDD;\n",
              "  }\n",
              "\n",
              "  [theme=dark] .colab-df-quickchart {\n",
              "      --bg-color: #3B4455;\n",
              "      --fill-color: #D2E3FC;\n",
              "      --hover-bg-color: #434B5C;\n",
              "      --hover-fill-color: #FFFFFF;\n",
              "      --disabled-bg-color: #3B4455;\n",
              "      --disabled-fill-color: #666;\n",
              "  }\n",
              "\n",
              "  .colab-df-quickchart {\n",
              "    background-color: var(--bg-color);\n",
              "    border: none;\n",
              "    border-radius: 50%;\n",
              "    cursor: pointer;\n",
              "    display: none;\n",
              "    fill: var(--fill-color);\n",
              "    height: 32px;\n",
              "    padding: 0;\n",
              "    width: 32px;\n",
              "  }\n",
              "\n",
              "  .colab-df-quickchart:hover {\n",
              "    background-color: var(--hover-bg-color);\n",
              "    box-shadow: 0 1px 2px rgba(60, 64, 67, 0.3), 0 1px 3px 1px rgba(60, 64, 67, 0.15);\n",
              "    fill: var(--button-hover-fill-color);\n",
              "  }\n",
              "\n",
              "  .colab-df-quickchart-complete:disabled,\n",
              "  .colab-df-quickchart-complete:disabled:hover {\n",
              "    background-color: var(--disabled-bg-color);\n",
              "    fill: var(--disabled-fill-color);\n",
              "    box-shadow: none;\n",
              "  }\n",
              "\n",
              "  .colab-df-spinner {\n",
              "    border: 2px solid var(--fill-color);\n",
              "    border-color: transparent;\n",
              "    border-bottom-color: var(--fill-color);\n",
              "    animation:\n",
              "      spin 1s steps(1) infinite;\n",
              "  }\n",
              "\n",
              "  @keyframes spin {\n",
              "    0% {\n",
              "      border-color: transparent;\n",
              "      border-bottom-color: var(--fill-color);\n",
              "      border-left-color: var(--fill-color);\n",
              "    }\n",
              "    20% {\n",
              "      border-color: transparent;\n",
              "      border-left-color: var(--fill-color);\n",
              "      border-top-color: var(--fill-color);\n",
              "    }\n",
              "    30% {\n",
              "      border-color: transparent;\n",
              "      border-left-color: var(--fill-color);\n",
              "      border-top-color: var(--fill-color);\n",
              "      border-right-color: var(--fill-color);\n",
              "    }\n",
              "    40% {\n",
              "      border-color: transparent;\n",
              "      border-right-color: var(--fill-color);\n",
              "      border-top-color: var(--fill-color);\n",
              "    }\n",
              "    60% {\n",
              "      border-color: transparent;\n",
              "      border-right-color: var(--fill-color);\n",
              "    }\n",
              "    80% {\n",
              "      border-color: transparent;\n",
              "      border-right-color: var(--fill-color);\n",
              "      border-bottom-color: var(--fill-color);\n",
              "    }\n",
              "    90% {\n",
              "      border-color: transparent;\n",
              "      border-bottom-color: var(--fill-color);\n",
              "    }\n",
              "  }\n",
              "</style>\n",
              "\n",
              "  <script>\n",
              "    async function quickchart(key) {\n",
              "      const quickchartButtonEl =\n",
              "        document.querySelector('#' + key + ' button');\n",
              "      quickchartButtonEl.disabled = true;  // To prevent multiple clicks.\n",
              "      quickchartButtonEl.classList.add('colab-df-spinner');\n",
              "      try {\n",
              "        const charts = await google.colab.kernel.invokeFunction(\n",
              "            'suggestCharts', [key], {});\n",
              "      } catch (error) {\n",
              "        console.error('Error during call to suggestCharts:', error);\n",
              "      }\n",
              "      quickchartButtonEl.classList.remove('colab-df-spinner');\n",
              "      quickchartButtonEl.classList.add('colab-df-quickchart-complete');\n",
              "    }\n",
              "    (() => {\n",
              "      let quickchartButtonEl =\n",
              "        document.querySelector('#df-41b444e2-4196-456d-83fc-ce7eadc6ac4f button');\n",
              "      quickchartButtonEl.style.display =\n",
              "        google.colab.kernel.accessAllowed ? 'block' : 'none';\n",
              "    })();\n",
              "  </script>\n",
              "</div>\n",
              "    </div>\n",
              "  </div>\n"
            ],
            "application/vnd.google.colaboratory.intrinsic+json": {
              "type": "dataframe",
              "variable_name": "data"
            }
          },
          "metadata": {},
          "execution_count": 55
        }
      ]
    },
    {
      "cell_type": "markdown",
      "source": [
        "###Summary of the file"
      ],
      "metadata": {
        "id": "r1QldLv9NprH"
      }
    },
    {
      "cell_type": "code",
      "source": [
        "\n",
        "compresse_summary = {\n",
        "    'Total number of rows': data.shape[0],\n",
        "    'Total number of columns': data.shape[1],\n",
        "    'File size': os.path.getsize('Windmill_compressed.gz')\n",
        "}\n",
        "\n",
        "print(\"Compressed Windmill file has\", compresse_summary)"
      ],
      "metadata": {
        "colab": {
          "base_uri": "https://localhost:8080/"
        },
        "id": "krcHEvC0JAG8",
        "outputId": "e7d018be-a804-4ce4-c9a5-d9f9e83cff39"
      },
      "execution_count": 58,
      "outputs": [
        {
          "output_type": "stream",
          "name": "stdout",
          "text": [
            "Compressed Windmill file has {'Total number of rows': 1048575, 'Total number of columns': 4, 'File size': 24308878}\n"
          ]
        }
      ]
    },
    {
      "cell_type": "code",
      "source": [],
      "metadata": {
        "id": "W7xDaFb5KE-J"
      },
      "execution_count": null,
      "outputs": []
    }
  ]
}